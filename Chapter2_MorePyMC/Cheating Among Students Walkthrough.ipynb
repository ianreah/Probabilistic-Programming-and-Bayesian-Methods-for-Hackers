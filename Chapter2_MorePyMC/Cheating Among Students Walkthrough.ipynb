{
 "cells": [
  {
   "cell_type": "code",
   "execution_count": 1,
   "metadata": {},
   "outputs": [],
   "source": [
    "import pymc3 as pm\n",
    "import numpy as np\n",
    "import theano.tensor as tt\n",
    "import matplotlib.pyplot as plt"
   ]
  },
  {
   "cell_type": "markdown",
   "metadata": {},
   "source": [
    "## The problem\n",
    "\n",
    "* 100 students took an exam and interviewed afterwards\n",
    "* In the interview they tossed a coin.\n",
    "* If they toss heads they answer honestly whether they cheated or not\n",
    "* If they toss tails they must toss again & and answer \"Yes I cheated\" if the second toss is heads, and \"No I didn't cheat\" if it's tails.\n",
    "* We received `35` \"Yes I cheated\" answers\n",
    "\n",
    "## 1. Designing the data generation scheme\n",
    "\n",
    "*...what is the best way to describe the data with random variables?*\n",
    "\n",
    "The \"cheating status\" of a student can be modelled as Bernoulli random variable (2 possible outcomes where the probability of each outcome is `p` and `(1-p)` respectively)\n",
    "\n",
    "$$\\text{cheater} \\sim \\text{Bernoulli}(\\mathit{p})$$\n",
    "\n",
    "So we need to model `p` - the probability that a student is a cheater. We don't have any reason to make any assumptions about `p` so we use a Uniform random variable.\n",
    "\n",
    "$$\\text{p} \\sim \\text{Uniform}(\\mathit{lower}=0.0,~\\mathit{upper}=1.0)$$\n",
    "\n",
    "Obviously the coin flips are modelled as Bernoulli random variables with equal probability of each outcome (assuming the coin is fare).\n",
    "\n",
    "$$\\text{first_flip} \\sim \\text{Bernoulli}(\\mathit{p}=0.5)$$\n",
    "$$\\text{second_flip} \\sim \\text{Bernoulli}(\\mathit{p}=0.5)$$\n",
    "\n",
    "Because the values are being encoded as `zeros` and `ones` (`1 => cheater`, `0 => didn't cheat`, `1 => tossed a head`, `0 => tossed a tail`) we can determine the student's answer as:\n",
    "\n",
    "$$\\text{first_flip} \\times \\text{cheater} + (1-\\text{first_flip}) \\times \\text{second_flip}$$\n",
    "\n",
    "**Notes:**\n",
    "\n",
    "* I'm not sure why we're setting `testval` on each of the Bernoulli variables. I *think* it's just to give it a more realistic starting point. It looks like if we don't set it, it start off as `[0,0,0,...,0]`.\n",
    "* A binomial variable with `1` trial is equivalent to a Bernoulli variable - I guess numpy doesn't have a separate `np.random.bernoulli` function.\n",
    "* `answers` is a `TensorVariable`. I guess it's an example of an *implicit* deterministic variable but I'm not sure yet I fully understand when you would choose to make an explicit one. My notes say something like implicit ones \"don't get tracked by the sampling\".\n",
    "* `yes_answers_proportion` is the proportion of \"yes I cheated\" answers. This is created *explicitly* as a deterministic variable."
   ]
  },
  {
   "cell_type": "code",
   "execution_count": 3,
   "metadata": {},
   "outputs": [
    {
     "data": {
      "text/plain": [
       "array(0.49000001)"
      ]
     },
     "execution_count": 3,
     "metadata": {},
     "output_type": "execute_result"
    }
   ],
   "source": [
    "N=100\n",
    "with pm.Model() as model:\n",
    "    p = pm.Uniform('p', 0, 1)\n",
    "    cheaters = pm.Bernoulli('cheaters', p, shape=N, testval=np.random.binomial(1, 0.5, N))\n",
    "    first_coin_flips = pm.Bernoulli('first_flips', 0.5, shape=N, testval=np.random.binomial(1, 0.5, N))\n",
    "    second_coin_flips = pm.Bernoulli('second_flips', 0.5, shape=N, testval=np.random.binomial(1, 0.5, N))\n",
    "    answers = first_coin_flips*cheaters + (1-first_coin_flips)*second_coin_flips\n",
    "    yes_answers_proportion = pm.Deterministic(\"yes_proportion\", tt.sum(answers)/float(N))\n",
    "    \n",
    "yes_answers_proportion.tag.test_value"
   ]
  },
  {
   "cell_type": "markdown",
   "metadata": {},
   "source": [
    "## 2. Associate the data generation scheme with the actual observed data\n",
    "\n",
    "$$\\text{observations} \\sim \\text{Binomial}(\\mathit{n}=100,~\\mathit{p}=\\text{yes_proportion})$$"
   ]
  },
  {
   "cell_type": "code",
   "execution_count": 3,
   "metadata": {},
   "outputs": [],
   "source": [
    "with model:\n",
    "    observations = pm.Binomial(\"observations\", N, yes_answers_proportion, observed=35)"
   ]
  },
  {
   "cell_type": "markdown",
   "metadata": {},
   "source": [
    "## 3. Run the (up to now) black-box algorithm over the model"
   ]
  },
  {
   "cell_type": "code",
   "execution_count": 4,
   "metadata": {},
   "outputs": [
    {
     "name": "stderr",
     "output_type": "stream",
     "text": [
      "Multiprocess sampling (4 chains in 4 jobs)\n",
      "CompoundStep\n",
      ">Metropolis: [p]\n",
      ">BinaryGibbsMetropolis: [cheaters, first_flips, second_flips]\n",
      "Sampling 4 chains, 0 divergences: 100%|██████████████████████████████████| 162000/162000 [21:26<00:00, 125.95draws/s]\n",
      "The number of effective samples is smaller than 10% for some parameters.\n"
     ]
    }
   ],
   "source": [
    "with model:\n",
    "    step = pm.Metropolis(vars=[p])\n",
    "    trace = pm.sample(40000, step=step)\n",
    "    burned_trace = trace[15000:]"
   ]
  },
  {
   "cell_type": "markdown",
   "metadata": {},
   "source": [
    "## 4. Investigate and interpret the posterior distribution"
   ]
  },
  {
   "cell_type": "code",
   "execution_count": 5,
   "metadata": {},
   "outputs": [
    {
     "data": {
      "image/png": "[encoded data removed]",
      "text/plain": [
       "<Figure size 1080x288 with 1 Axes>"
      ]
     },
     "metadata": {
      "needs_background": "light"
     },
     "output_type": "display_data"
    }
   ],
   "source": [
    "plt.figure(figsize=(15,4))\n",
    "plt.hist(burned_trace[\"p\"][15000:], bins=30, density=True)\n",
    "plt.xlim(0, 1);"
   ]
  },
  {
   "cell_type": "markdown",
   "metadata": {},
   "source": [
    "* The posterior is quite a wide distribution so we're pretty uncertain about the proportion of cheaters. Possibly between 0.05 & 0.35?\n",
    "* BUT, we can say it's quite unlikely that there are no cheaters - it's a fairly low value for $p=0$"
   ]
  },
  {
   "cell_type": "markdown",
   "metadata": {},
   "source": [
    "## An alternative model\n",
    "\n",
    "The probability that a student will answer yes:\n",
    "\n",
    "$$P(\\text{\"Yes\"})=P(\\text{Heads on first toss}) \\times P(\\text{cheater}) + P(\\text{Tails on first toss}) \\times P(\\text{Heads on second toss})$$\n",
    "\n",
    "$$=\\frac{1}{2} \\times p + \\frac{1}{2} \\times \\frac{1}{2}$$\n",
    "\n",
    "$$=\\frac{p}{2} + \\frac{1}{4}$$\n",
    "\n",
    "So, we can make a deterministic variable from $p$ to give us the probability that student will answer \"Yes\" and use that as the input to our Binomial variable to model the observations...\n",
    "\n",
    "$$\\text{observations} \\sim \\text{Binomial}(\\mathit{n}=100,~\\mathit{p}=P(\\text{\"Yes\"}))$$"
   ]
  },
  {
   "cell_type": "code",
   "execution_count": 12,
   "metadata": {},
   "outputs": [
    {
     "name": "stderr",
     "output_type": "stream",
     "text": [
      "Multiprocess sampling (4 chains in 4 jobs)\n",
      "Metropolis: [p]\n",
      "Sampling 4 chains, 0 divergences: 100%|█████████████████████████████████| 102000/102000 [00:37<00:00, 2710.87draws/s]\n",
      "The number of effective samples is smaller than 25% for some parameters.\n"
     ]
    }
   ],
   "source": [
    "with pm.Model() as alternative_model:\n",
    "    p = pm.Uniform('p', 0, 1)\n",
    "    p_yes = pm.Deterministic(\"p_yes\", 0.5*p + 0.25)\n",
    "    observations = pm.Binomial(\"observations\", N, p_yes, observed=35)\n",
    "    \n",
    "    step = pm.Metropolis()\n",
    "    trace = pm.sample(25000, step=step)\n",
    "    alt_burned_trace = trace[2500:]"
   ]
  },
  {
   "cell_type": "markdown",
   "metadata": {},
   "source": [
    "...which runs much faster & gives a similar result..."
   ]
  },
  {
   "cell_type": "code",
   "execution_count": 13,
   "metadata": {},
   "outputs": [
    {
     "data": {
      "image/png": "[encoded data removed]",
      "text/plain": [
       "<Figure size 1080x288 with 1 Axes>"
      ]
     },
     "metadata": {
      "needs_background": "light"
     },
     "output_type": "display_data"
    }
   ],
   "source": [
    "plt.figure(figsize=(15,4))\n",
    "plt.hist(alt_burned_trace[\"p\"][15000:], bins=30, density=True)\n",
    "plt.xlim(0, 1);"
   ]
  }
 ],
 "metadata": {
  "kernelspec": {
   "display_name": "Python 3",
   "language": "python",
   "name": "python3"
  },
  "language_info": {
   "codemirror_mode": {
    "name": "ipython",
    "version": 3
   },
   "file_extension": ".py",
   "mimetype": "text/x-python",
   "name": "python",
   "nbconvert_exporter": "python",
   "pygments_lexer": "ipython3",
   "version": "3.6.10"
  }
 },
 "nbformat": 4,
 "nbformat_minor": 4
}
