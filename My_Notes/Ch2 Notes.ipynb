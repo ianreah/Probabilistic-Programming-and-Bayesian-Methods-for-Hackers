{
 "cells": [
  {
   "cell_type": "code",
   "execution_count": 7,
   "metadata": {},
   "outputs": [],
   "source": [
    "import pymc3 as pm"
   ]
  },
  {
   "cell_type": "markdown",
   "metadata": {},
   "source": [
    "# Some PyMC3 basics\n",
    "\n",
    "A PyMC model is defined by relating unknown variables to observed data. Think of it as associating the observed data with a proposal for the data generation scheme that led to it.\n",
    "\n",
    "## Model Context\n",
    "\n",
    "PyMC3 uses python's `with...as...:` syntax to create a model context. It's a bit like `using(...) {...}` in C#.\n",
    "\n",
    "```\n",
    "with EXPRESSION as BLAH:\n",
    "    SOME CODE\n",
    "```\n",
    "\n",
    "...is equivalent to...\n",
    "\n",
    "```\n",
    "BLAH = EXPRESSION\n",
    "BLAH.__enter__()\n",
    "try:\n",
    "    SOME CODE\n",
    "finally:\n",
    "    BLAH.__exit__()\n",
    "```\n",
    "\n",
    "In PyMC3 any variables created in the context of a new model (`with pm.Model() as model:`) or an existing model (`with existing_model:`) are automatically associated with the model. You get an error if you create a PyMC variable outside the context of a model.\n",
    "\n",
    "## Variables\n",
    "\n",
    "PyMC3 variables have an initial value used as the starting point of the sampling. `tag.test_value` can be used to query the starting point. You can specify a particular starting value using the `testval` parameter..."
   ]
  },
  {
   "cell_type": "code",
   "execution_count": 41,
   "metadata": {},
   "outputs": [
    {
     "name": "stdout",
     "output_type": "stream",
     "text": [
      "0.2310490608215332\n",
      "0.4\n"
     ]
    }
   ],
   "source": [
    "with pm.Model() as model:\n",
    "    var1 = pm.Exponential('var1', 3)\n",
    "    var2 = pm.Exponential('var2', 3, testval=0.4)\n",
    "    \n",
    "print(var1.tag.test_value)\n",
    "print(var2.tag.test_value)"
   ]
  },
  {
   "cell_type": "markdown",
   "metadata": {},
   "source": [
    "PyMC3 variables can be *Stochastic* or *Deterministic*...\n",
    "\n",
    "* *Stochastic:* even if we know all of its input parameters we still don't know its value, i.e., it's still a random variable. For example, a Poisson random variable - even if we know the value of its parameter $\\lambda$ it's still a random variable with a range of possible values. Other examples are Discrete Uniform and Exponential random variables (in fact, any of the probability distributions we've already discussed - and many we haven't).\n",
    "* *Deterministic:* its value can be determined exactly if we know all of its input parameters.\n",
    "\n",
    "Stochastic variables are created with a name argument of type string and other parameters specific to each type of variable. For example...\n",
    "\n",
    "`some_variable = pm.DiscreteUniform(\"discrete_uni_var\", 0, 4)`\n",
    "\n",
    "...where $0$ and $4$ are the upper & lower bound parameters for the discrete uniform distribution.\n",
    "\n",
    "Note that the name string is used as a key for the [backend](https://docs.pymc.io/api/backends.html) and for display purposes in various plots, graphs & traces you can get out of PyMC3. It's usual to use the name of the object variable for the name argument - but it doesn't have to be!\n",
    "\n",
    "For convenience, the `shape` parameter allows you to create an array of independent stochastic variables instead of creating arbitrary names and variables for each one. For example, instead of...\n",
    "\n",
    "\n",
    "    beta_1 = pm.Uniform(\"beta_1\", 0, 1)\n",
    "    beta_2 = pm.Uniform(\"beta_2\", 0, 1)\n",
    "    ...\n",
    "    \n",
    "...use a single variable...\n",
    "\n",
    "    betas = pm.Uniform(\"betas\", 0, 1, shape=N)"
   ]
  },
  {
   "cell_type": "code",
   "execution_count": 44,
   "metadata": {},
   "outputs": [
    {
     "data": {
      "text/plain": [
       "array([0.5, 0.5, 0.5, 0.5])"
      ]
     },
     "execution_count": 44,
     "metadata": {},
     "output_type": "execute_result"
    }
   ],
   "source": [
    "with pm.Model() as model:\n",
    "     betas = pm.Uniform(\"betas\", 0, 1, shape=4)\n",
    "\n",
    "betas.tag.test_value"
   ]
  },
  {
   "cell_type": "markdown",
   "metadata": {},
   "source": [
    "### A tangent: Theano...\n",
    "\n",
    "Before looking at how to create deterministic variables in PyMC3 it's useful to know a little bit about the [Theano library](http://deeplearning.net/software/theano/index.html) as PyMC3 makes heavy use of it and you often need some of its functionality when creating deterministic variables.\n",
    "\n",
    "Theano separates the definition and evaluation of mathematical expressions. And, more crucially, allows for optimisation of the expression before evaluating it. Instead of evaluating the epxresisons immediately it builds up a \"compute graph\" (think of it like a kind of lazy evaluation) and once it has the entire graph it can then apply some optimisations - such as arithmetic simplification, compiling to C, or making use of the GPU.\n",
    "\n",
    "### ...back to variables: creating deterministic variables\n",
    "\n",
    "A deterministic variable is defined in a similar way to a stochastic variable using the `Deterministic` class and passing in a function which defines the calculation for determining the value of the variable.\n",
    "\n",
    "This is why you need to know about Theano. The functions you create to define a deterministic variable must use theano functions to build up the symbolic graph. It's easy to forget this as many of the theano functions just look like normal operations & function calls, but if you used a function from any old library in a deterministic variable definition it would evaluate it immediately rather than add it to the \"compute graph\".\n",
    "\n",
    "In the example in the previous chapter, where we defined the deterministic variable using `lambda_t = pm.math.switch(tau > idx, e, l)` - the `pm.math.switch` function comes from the Theano library.\n",
    "\n",
    "Here's a very simple example:"
   ]
  },
  {
   "cell_type": "code",
   "execution_count": 10,
   "metadata": {},
   "outputs": [],
   "source": [
    "def subtract(x,y):\n",
    "    return x-y\n",
    "\n",
    "with pm.Model() as model:\n",
    "    stochastic_1 = pm.Uniform(\"U_1\", 0, 1)\n",
    "    stochastic_2 = pm.Uniform(\"U_2\", 0, 1)\n",
    "    \n",
    "    det_1 = pm.Deterministic(\"Delta\", subtract(stochastic_1, stochastic_2))"
   ]
  },
  {
   "cell_type": "markdown",
   "metadata": {},
   "source": [
    "Note that the variable passed into the `subtract` function are PyMC3 stochastic variables and the `-` operator will be a Theano operator."
   ]
  },
  {
   "cell_type": "code",
   "execution_count": 29,
   "metadata": {
    "scrolled": false
   },
   "outputs": [
    {
     "name": "stdout",
     "output_type": "stream",
     "text": [
      "<class 'theano.tensor.var.TensorVariable'>\n"
     ]
    }
   ],
   "source": [
    "import theano.tensor as tt\n",
    "\n",
    "with pm.Model() as theano_test:\n",
    "    p1 = pm.Uniform(\"p\", 0, 1)\n",
    "    p2 = 1 - p1\n",
    "    # p = tt.stack([p1, p2])\n",
    "    print(type(tt.stack([p1, p2])))\n",
    "    #assignment = pm.Categorical(\"assignment\", p1, p2)"
   ]
  },
  {
   "cell_type": "markdown",
   "metadata": {},
   "source": [
    "* `assignment = pm.Categorical(\"assignment\", [p1,p2])` error cos it needs a theano varialb"
   ]
  }
 ],
 "metadata": {
  "kernelspec": {
   "display_name": "Python 3",
   "language": "python",
   "name": "python3"
  },
  "language_info": {
   "codemirror_mode": {
    "name": "ipython",
    "version": 3
   },
   "file_extension": ".py",
   "mimetype": "text/x-python",
   "name": "python",
   "nbconvert_exporter": "python",
   "pygments_lexer": "ipython3",
   "version": "3.6.10"
  }
 },
 "nbformat": 4,
 "nbformat_minor": 4
}
